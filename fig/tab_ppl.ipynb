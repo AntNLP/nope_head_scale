{
 "cells": [
  {
   "cell_type": "code",
   "execution_count": null,
   "metadata": {},
   "outputs": [],
   "source": [
    "import json\n",
    "import os\n",
    "import re\n",
    "from pathlib import Path\n",
    "\n",
    "import pandas as pd"
   ]
  },
  {
   "cell_type": "code",
   "execution_count": null,
   "metadata": {},
   "outputs": [],
   "source": [
    "os.chdir('..')"
   ]
  },
  {
   "cell_type": "code",
   "execution_count": null,
   "metadata": {},
   "outputs": [],
   "source": [
    "root_folder = Path(\"path/to/data\")\n",
    "if not root_folder.exists():\n",
    "    raise Exception(\"Path does not exist: {}\".format(root_folder))\n",
    "\n",
    "# get all folders in root_folder\n",
    "folders = root_folder.iterdir()\n",
    "\n",
    "\n",
    "# filter using exps\n",
    "def filter_name(p: Path):\n",
    "    return p.is_dir()\n",
    "\n",
    "\n",
    "folders = sorted([f for f in folders if filter_name(f)])\n",
    "pattern = re.compile(r\"^([^|]+).*\")\n",
    "# pattern = re.compile(r\"^([^_]+).*\")\n",
    "lines: dict[Path, str] = {path: pattern.match(path.name).group(1) for path in folders}\n",
    "print(lines)"
   ]
  },
  {
   "cell_type": "code",
   "execution_count": null,
   "metadata": {},
   "outputs": [],
   "source": [
    "data = []\n",
    "for path, name in lines.items():\n",
    "    assert path.is_dir(), path\n",
    "    file_path = path / \"result.json\"\n",
    "    if not os.path.isfile(file_path):\n",
    "        print(f\"{file_path} not exists\")\n",
    "        continue\n",
    "    with open(file_path) as f:\n",
    "        rst = json.load(f)\n",
    "    line = {\n",
    "        \"name\": name[: -len(str(rst[\"max_length\"])) -1],\n",
    "        \"length\": rst[\"max_length\"],\n",
    "        \"ppl\": rst[\"ppl\"],\n",
    "    }\n",
    "    data.append(line)\n",
    "df = pd.DataFrame(data)\n",
    "print(df)"
   ]
  },
  {
   "cell_type": "code",
   "execution_count": null,
   "metadata": {},
   "outputs": [],
   "source": [
    "pivot = df.pivot(index=\"name\", columns=\"length\", values=\"ppl\")\n",
    "print(pivot)"
   ]
  },
  {
   "cell_type": "code",
   "execution_count": null,
   "metadata": {},
   "outputs": [],
   "source": [
    "with open(str(root_folder) + \".md\", \"w\") as f:\n",
    "    f.write(pivot.round(2).to_markdown())"
   ]
  },
  {
   "cell_type": "code",
   "execution_count": null,
   "metadata": {},
   "outputs": [],
   "source": []
  }
 ],
 "metadata": {
  "kernelspec": {
   "display_name": "pt2",
   "language": "python",
   "name": "python3"
  },
  "language_info": {
   "codemirror_mode": {
    "name": "ipython",
    "version": 3
   },
   "file_extension": ".py",
   "mimetype": "text/x-python",
   "name": "python",
   "nbconvert_exporter": "python",
   "pygments_lexer": "ipython3",
   "version": "3.9.18"
  }
 },
 "nbformat": 4,
 "nbformat_minor": 2
}
