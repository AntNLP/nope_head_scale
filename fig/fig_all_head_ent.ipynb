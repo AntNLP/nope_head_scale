{
 "cells": [
  {
   "cell_type": "code",
   "execution_count": null,
   "metadata": {},
   "outputs": [],
   "source": [
    "import os\n",
    "import re\n",
    "import warnings\n",
    "from pathlib import Path\n",
    "\n",
    "warnings.filterwarnings(\"ignore\")\n",
    "\n",
    "import matplotlib.pyplot as plt\n",
    "import numpy as np\n",
    "import pandas as pd\n",
    "import seaborn as sns"
   ]
  },
  {
   "cell_type": "code",
   "execution_count": null,
   "metadata": {},
   "outputs": [],
   "source": [
    "# os.chdir('..')\n",
    "os.chdir(os.path.expanduser(\"~/nope/clm\"))"
   ]
  },
  {
   "cell_type": "code",
   "execution_count": null,
   "metadata": {},
   "outputs": [],
   "source": [
    "file = \"fig_all_heads_ent.pdf\"\n",
    "path = Path(\"path/to/data\")"
   ]
  },
  {
   "cell_type": "code",
   "execution_count": null,
   "metadata": {},
   "outputs": [],
   "source": [
    "arr: np.ndarray = np.load(path / \"entropy.npy\").astype(np.float32)\n",
    "n_layers, n_heads, seq_len = arr.shape\n",
    "data = []\n",
    "for i in range(n_layers):\n",
    "    for j in range(n_heads):\n",
    "        for k in range(seq_len):\n",
    "            data.append(\n",
    "                {\n",
    "                    \"layer\": i,\n",
    "                    \"head\": j,\n",
    "                    \"Position\": k,\n",
    "                    \"Entropy\": arr[i, j, k],\n",
    "                }\n",
    "            )\n",
    "df = pd.DataFrame(data)"
   ]
  },
  {
   "cell_type": "code",
   "execution_count": null,
   "metadata": {},
   "outputs": [],
   "source": [
    "A4_paper_size_inches = (8.27, 11.69)\n",
    "fig, axs = plt.subplots(6, 4, figsize=A4_paper_size_inches)\n",
    "axs[5][2].remove()\n",
    "axs[5][3].remove()\n",
    "positions = list(range(0, 8192, 128))\n",
    "for layer in range(22):\n",
    "    i = layer // 4\n",
    "    j = layer % 4\n",
    "    plot_df = df[df[\"layer\"] == layer][df[\"Position\"].isin(positions)]\n",
    "    sns.lineplot(data=plot_df, ax=axs[i][j], x=\"Position\", y=\"Entropy\", hue=\"head\", legend=False, palette=\"tab10\")\n",
    "    axs[i][j].set_title(f\"Layer {layer}\")\n",
    "    x = np.arange(0, 8192)\n",
    "    y = np.log2(x + 1)\n",
    "    axs[i][j].plot(x, y, color=\"black\", linestyle=\"dashed\")\n",
    "    axs[i][j].set_xlabel('')\n",
    "    axs[i][j].set_ylabel('')\n",
    "fig.tight_layout()  # to ensure that the right y-label is not slightly clipped"
   ]
  },
  {
   "cell_type": "code",
   "execution_count": null,
   "metadata": {},
   "outputs": [],
   "source": [
    "fig.savefig(os.path.join(\"figs\", file),bbox_inches='tight', pad_inches=0.0, dpi=500)\n",
    "# plt.savefig(os.path.join(\"logs\", \"loss.png\"))"
   ]
  },
  {
   "cell_type": "code",
   "execution_count": null,
   "metadata": {},
   "outputs": [],
   "source": []
  }
 ],
 "metadata": {
  "kernelspec": {
   "display_name": "pt2",
   "language": "python",
   "name": "python3"
  },
  "language_info": {
   "codemirror_mode": {
    "name": "ipython",
    "version": 3
   },
   "file_extension": ".py",
   "mimetype": "text/x-python",
   "name": "python",
   "nbconvert_exporter": "python",
   "pygments_lexer": "ipython3",
   "version": "3.9.18"
  }
 },
 "nbformat": 4,
 "nbformat_minor": 2
}
