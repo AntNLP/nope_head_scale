{
 "cells": [
  {
   "cell_type": "code",
   "execution_count": null,
   "metadata": {},
   "outputs": [],
   "source": [
    "import os\n",
    "import re\n",
    "import warnings\n",
    "from pathlib import Path\n",
    "\n",
    "warnings.filterwarnings(\"ignore\")\n",
    "import matplotlib\n",
    "import matplotlib.pyplot as plt\n",
    "# matplotlib.font_manager._rebuild()\n",
    "plt.rcParams['text.usetex'] = True\n",
    "matplotlib.rcParams.update({'font.size': 12})\n",
    "plt.rc('font', family='Times New Roman')\n",
    "import numpy as np\n",
    "import pandas as pd\n",
    "import seaborn as sns\n",
    "sns.set_style(rc={'text.usetex' : True})"
   ]
  },
  {
   "cell_type": "code",
   "execution_count": null,
   "metadata": {},
   "outputs": [],
   "source": [
    "# os.chdir('..')\n",
    "os.chdir(os.path.expanduser(\"~/clm\"))"
   ]
  },
  {
   "cell_type": "code",
   "execution_count": null,
   "metadata": {},
   "outputs": [],
   "source": [
    "# fig_vis_head_entro\n",
    "exps: list[str] = [\n",
    "    \"NoPE50k(4k)\",\n",
    "    \"NoPE50k_s1.2(4k)\",\n",
    "    \"NoPE50k_HS4k(4k)\",\n",
    "]\n",
    "name_map: dict[str, str] = {\n",
    "    \"NoPE50k(4k)\": r'\\textbf{NoPE}',\n",
    "    \"NoPE50k_s1.2(4k)\" : r'\\textbf{NoPE} $\\lambda=\\frac{1.2}{\\sqrt{d}}$',\n",
    "    \"NoPE50k_HS4k(4k)\":  r'\\textbf{NoPE} $\\lambda^{(h)}$',\n",
    "}"
   ]
  },
  {
   "cell_type": "code",
   "execution_count": null,
   "metadata": {},
   "outputs": [],
   "source": [
    "ent_root = Path(\"path/to/data\")\n",
    "if not ent_root.exists():\n",
    "    raise Exception(\"Path does not exist: {}\".format(ent_root))\n",
    "# get all folders in root_folder\n",
    "folders = ent_root.iterdir()\n",
    "\n",
    "\n",
    "# filter using exps\n",
    "def filter_name(p: Path):\n",
    "    return any(p.name.startswith(f\"{exp}|\") for exp in exps)\n",
    "\n",
    "\n",
    "folders = sorted([f for f in folders if filter_name(f)])\n",
    "pattern = re.compile(r\"^([^|]+).*\")\n",
    "ent_lines: dict[str, Path] = {pattern.match(path.name).group(1): path for path in folders}\n",
    "print(ent_lines)"
   ]
  },
  {
   "cell_type": "code",
   "execution_count": null,
   "metadata": {},
   "outputs": [],
   "source": [
    "def load_ent(path: Path):\n",
    "    arr: np.ndarray = np.load(path / \"entropy.npy\").astype(np.float32)\n",
    "    n_layers, n_heads, seq_len = arr.shape\n",
    "    data = []\n",
    "    for i in range(n_layers):\n",
    "        for j in range(n_heads):\n",
    "            for k in range(seq_len):\n",
    "                data.append(\n",
    "                    {\n",
    "                        \"layer\": i,\n",
    "                        \"head\": j,\n",
    "                        \"Position\": k,\n",
    "                        \"Entropy\": arr[i, j, k],\n",
    "                    }\n",
    "                )\n",
    "    df = pd.DataFrame(data)\n",
    "    return df"
   ]
  },
  {
   "cell_type": "code",
   "execution_count": null,
   "metadata": {},
   "outputs": [],
   "source": [
    "layers = [0, 10, 20]\n",
    "# heads = list(range(10))\n",
    "heads = list(range(22))\n",
    "# A4_paper_size_inches = (8.27, 11.69)\n",
    "# fig_size = list(size / 2 for size in A4_paper_size_inches)\n",
    "fig, axs = plt.subplots(3, 3, figsize=(9, 5))\n",
    "plt.subplots_adjust(wspace=-1,hspace=-1)\n",
    "for i, (name, path) in enumerate(ent_lines.items()):\n",
    "    df = load_ent(path)\n",
    "    for j, layer in enumerate(layers):\n",
    "        plot_df = df[df[\"layer\"] == layer][df[\"head\"].isin(heads)]\n",
    "        sns.lineplot(data=plot_df, ax=axs[i][j], x=\"Position\", y=\"Entropy\", hue=\"head\", legend=False, palette=sns.color_palette(\"Paired\"))\n",
    "        if layer == layers[1]:\n",
    "            axs[i][j].set_title(f\"{name_map[name]} - Layer {layer}\")\n",
    "        else:\n",
    "            axs[i][j].set_title(f\"Layer {layer}\")\n",
    "        # x = np.arange(0, 4096)\n",
    "        # y = np.log2(x + 1)\n",
    "        # axs[i][j].plot(x, y, color=\"black\", linestyle=\"dashed\")\n",
    "        axs[i][j].set_xlabel('')\n",
    "        axs[i][j].set_ylabel('')\n",
    "fig.tight_layout()  # to ensure that the right y-label is not slightly clipped"
   ]
  },
  {
   "cell_type": "code",
   "execution_count": null,
   "metadata": {},
   "outputs": [],
   "source": [
    "fig.savefig(os.path.join(\"logs\", \"fig_vis_head_entro.pdf\"),bbox_inches='tight', pad_inches=0.0, dpi=1000)\n",
    "# plt.savefig(os.path.join(\"logs\", \"loss.png\"))"
   ]
  },
  {
   "cell_type": "code",
   "execution_count": null,
   "metadata": {},
   "outputs": [],
   "source": []
  }
 ],
 "metadata": {
  "kernelspec": {
   "display_name": "pt2",
   "language": "python",
   "name": "python3"
  },
  "language_info": {
   "codemirror_mode": {
    "name": "ipython",
    "version": 3
   },
   "file_extension": ".py",
   "mimetype": "text/x-python",
   "name": "python",
   "nbconvert_exporter": "python",
   "pygments_lexer": "ipython3",
   "version": "3.11.2"
  }
 },
 "nbformat": 4,
 "nbformat_minor": 2
}
