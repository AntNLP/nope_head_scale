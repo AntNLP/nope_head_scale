{
 "cells": [
  {
   "cell_type": "code",
   "execution_count": null,
   "metadata": {},
   "outputs": [],
   "source": [
    "import os\n",
    "import re\n",
    "import warnings\n",
    "from pathlib import Path\n",
    "\n",
    "warnings.filterwarnings(\"ignore\")\n",
    "import matplotlib\n",
    "import matplotlib.pyplot as plt\n",
    "plt.rcParams['text.usetex'] = True\n",
    "plt.rc('text.latex', preamble=r'\\usepackage{ulem}')\n",
    "matplotlib.rcParams.update({'font.size': 14})\n",
    "plt.rc('font', family='Times New Roman')\n",
    "\n",
    "\n",
    "import numpy as np\n",
    "import pandas as pd\n",
    "import seaborn as sns\n",
    "sns.set_style(rc={'text.usetex' : True})\n",
    "\n",
    "max_len = None"
   ]
  },
  {
   "cell_type": "code",
   "execution_count": null,
   "metadata": {},
   "outputs": [],
   "source": [
    "# os.chdir('..')\n",
    "os.chdir(os.path.expanduser(\"~/clm\"))"
   ]
  },
  {
   "cell_type": "code",
   "execution_count": null,
   "metadata": {},
   "outputs": [],
   "source": [
    "# fig_vis_entro\n",
    "# exps: list[str] = [\n",
    "#     \"NoPE50k(4k)\",\n",
    "#     \"NoPE50k_s1.2(4k)\",\n",
    "#     \"RoPE50k(4k)\",\n",
    "#     \"RoPE50k_NTK2(4k)\",\n",
    "# ]\n",
    "# loss_lines: dict[str, Path] = {\n",
    "#     \"NoPE50k(4k)\": Path(\"path/to/data\"),\n",
    "#     \"NoPE50k_s1.2(4k)\": Path(\"path/to/data\"),\n",
    "#     \"RoPE50k(4k)\": Path(\"path/to/data\"),\n",
    "#     \"RoPE50k_NTK2(4k)\": Path(\"path/to/data\"),\n",
    "# }\n",
    "# name_map: dict[str, str] = {\n",
    "#     \"NoPE50k(4k)\": 'NoPE',\n",
    "#     \"NoPE50k_s1.2(4k)\" : r'NoPE $\\lambda=\\frac{1.2}{\\sqrt{d}}$',\n",
    "#     \"RoPE50k(4k)\": 'RoPE',\n",
    "#     \"RoPE50k_NTK2(4k)\": 'RoPE NTK',\n",
    "# }"
   ]
  },
  {
   "cell_type": "code",
   "execution_count": null,
   "metadata": {},
   "outputs": [],
   "source": [
    "# fig_vis_uni_scale_entro_nope\n",
    "# exps: list[str] = [\n",
    "#     \"NoPE50k_s0.9(4k)\",\n",
    "#     \"NoPE50k(4k)\",\n",
    "#     \"NoPE50k_s1.1(4k)\",\n",
    "#     \"NoPE50k_s1.2(4k)\",\n",
    "# ]\n",
    "# loss_lines: dict[str, Path] = {\n",
    "#     \"NoPE50k_s0.9(4k)\": Path(\"path/to/data\"),\n",
    "#     \"NoPE50k(4k)\": Path(\"path/to/data\"),\n",
    "#     \"NoPE50k_s1.1(4k)\": Path(\"path/to/data\"),\n",
    "#     \"NoPE50k_s1.2(4k)\": Path(\"path/to/data\"),\n",
    "# }\n",
    "# name_map: dict[str, str] = {\n",
    "#     \"NoPE50k_s0.9(4k)\" : r'NoPE $\\lambda=\\frac{0.9}{\\sqrt{d}}$',\n",
    "#     \"NoPE50k(4k)\" : r'NoPE $\\lambda=\\frac{1.0}{\\sqrt{d}}$',\n",
    "#     \"NoPE50k_s1.1(4k)\" : r'NoPE $\\lambda=\\frac{1.1}{\\sqrt{d}}$',\n",
    "#     \"NoPE50k_s1.2(4k)\" : r'NoPE $\\lambda=\\frac{1.2}{\\sqrt{d}}$',\n",
    "# }"
   ]
  },
  {
   "cell_type": "code",
   "execution_count": null,
   "metadata": {},
   "outputs": [],
   "source": [
    "# fig_vis_uni_scale_entro_rope\n",
    "exps: list[str] = [\n",
    "    \"RoPE50k_s0.8(4k)\",\n",
    "    \"RoPE50k(4k)\",\n",
    "    \"RoPE50k_s1.2(4k)\",\n",
    "    \"RoPE50k_s1.4(4k)\",\n",
    "]\n",
    "loss_lines: dict[str, Path] = {\n",
    "    \"RoPE50k_s0.8(4k)\": Path(\"path/to/data\"),\n",
    "    \"RoPE50k(4k)\": Path(\"path/to/data\"),\n",
    "    \"RoPE50k_s1.2(4k)\": Path(\"path/to/data\"),\n",
    "    \"RoPE50k_s1.4(4k)\": Path(\"path/to/data\"),\n",
    "}\n",
    "\n",
    "name_map: dict[str, str] = {\n",
    "    \"RoPE50k_s0.8(4k)\" : r'\\textbf{RoPE} $\\lambda=\\frac{0.8}{\\sqrt{d}}$',\n",
    "    \"RoPE50k(4k)\" : r'\\textbf{RoPE} $\\lambda=\\frac{1.0}{\\sqrt{d}}$',\n",
    "    \"RoPE50k_s1.2(4k)\" : r'\\textbf{RoPE} $\\lambda=\\frac{1.2}{\\sqrt{d}}$',\n",
    "    \"RoPE50k_s1.4(4k)\" : r'\\textbf{RoPE} $\\lambda=\\frac{1.4}{\\sqrt{d}}$',\n",
    "}"
   ]
  },
  {
   "cell_type": "code",
   "execution_count": null,
   "metadata": {},
   "outputs": [],
   "source": [
    "# fig_vis_head_vs_uni_scale\n",
    "# exps: list[str] = [\n",
    "#     \"NoPE50k_s1.6(8k)\",\n",
    "#     \"NoPE50k_HS8k(8k)\",\n",
    "# ]\n",
    "# loss_lines: dict[str, Path] = {\n",
    "#     \"NoPE50k_s1.6(8k)\": Path(\"path/to/data\"),\n",
    "#     \"NoPE50k_HS8k(8k)\": Path(\"path/to/data\"),\n",
    "# }\n",
    "# max_len = 8192"
   ]
  },
  {
   "cell_type": "code",
   "execution_count": null,
   "metadata": {},
   "outputs": [],
   "source": [
    "ent_root = Path(\"path/to/data\")\n",
    "if not ent_root.exists():\n",
    "    raise Exception(\"Path does not exist: {}\".format(ent_root))\n",
    "# get all folders in root_folder\n",
    "folders = ent_root.iterdir()\n",
    "\n",
    "\n",
    "# filter using exps\n",
    "def filter_name(p: Path):\n",
    "    return any(p.name.startswith(f\"{exp}|\") for exp in exps)\n",
    "\n",
    "\n",
    "folders = sorted([f for f in folders if filter_name(f)])\n",
    "pattern = re.compile(r\"^([^|]+).*\")\n",
    "ent_lines: dict[str, Path] = {pattern.match(path.name).group(1): path for path in folders}\n",
    "print(ent_lines)"
   ]
  },
  {
   "cell_type": "code",
   "execution_count": null,
   "metadata": {},
   "outputs": [],
   "source": [
    "def moving_average(data: np.ndarray, w: int):\n",
    "    assert w % 2 == 0\n",
    "    # Initialize an empty array for the moving averages\n",
    "    moving_avg = np.zeros_like(data, dtype=float)\n",
    "    # Calculate the moving average with a window size that adjusts at the borders\n",
    "    for i in range(len(data)):\n",
    "        # Determine the window size\n",
    "        start = max(0, i - (w // 2))\n",
    "        end = min(len(data), i + (w // 2) + 1)\n",
    "        window_size = end - start\n",
    "        moving_avg[i] = np.sum(data[start:end]) / window_size  # Calculate the average\n",
    "    return moving_avg\n",
    "\n",
    "\n",
    "def load_arr(path: Path, seq_len_max: int, ent: bool = False):\n",
    "    if not os.path.isfile(path):\n",
    "        print(f\"{str(path)} not exists\")\n",
    "        return [0] * seq_len_max\n",
    "    arr: np.ndarray = np.load(path).astype(np.float32)\n",
    "    if ent:\n",
    "        arr = arr.mean(axis=(0, 1))\n",
    "    seq_len = min(arr.shape[0], seq_len_max)\n",
    "    arr = arr[:seq_len]\n",
    "    if not ent:\n",
    "        arr = moving_average(arr, 100)\n",
    "    return arr"
   ]
  },
  {
   "cell_type": "code",
   "execution_count": null,
   "metadata": {},
   "outputs": [],
   "source": [
    "if max_len is None:\n",
    "    max_len = 4096\n",
    "data = []\n",
    "for name, ent_path in ent_lines.items():\n",
    "    ent = load_arr(ent_path / \"entropy.npy\", seq_len_max=max_len, ent=True)\n",
    "    loss = load_arr(loss_lines[name] / \"loss.npy\", seq_len_max=max_len)\n",
    "    for i in range(max_len):\n",
    "        data.append({\"model\": name_map[name], \"ent\": ent[i], \"loss\": loss[i], \"pos\": i})\n",
    "df = pd.DataFrame(data)\n",
    "print(df)"
   ]
  },
  {
   "cell_type": "code",
   "execution_count": null,
   "metadata": {},
   "outputs": [],
   "source": [
    "fig, ax1 = plt.subplots(figsize=(8, 4))\n",
    "assert isinstance(ax1, plt.Axes)\n",
    "# ax1.set_xlabel('Position')\n",
    "ax1.set_xlabel(r'$\\textbf{Position}\\  i$', fontweight='bold')\n",
    "\n",
    "ax1.set_ylabel(' ')\n",
    "ax1.tick_params(axis='y')\n",
    "# plt.vlines(2400, 0, 8, color=plt.cm.Paired(0), linestyle=\"dotted\", linewidth=2)\n",
    "\n",
    "ax2 = ax1.twinx() # create a second set of axes that shares the x-axis\n",
    "# ax2.set_ylabel('log Perplexity')\n",
    "ax2.set_ylabel(r'$\\textbf{\\dashuline{log Perplexity}}$')\n",
    "ax2.tick_params(axis='y')\n",
    "# ax2.set_ylim(2, 10)\n",
    "# x = np.arange(0, max_len)\n",
    "# y = np.log2(x + 1)\n",
    "# ax1.plot(x, y, color=\"black\", linestyle=\"dashed\")\n",
    " \n",
    "hue_order = [ r'\\textbf{RoPE} $\\lambda=\\frac{0.8}{\\sqrt{d}}$',\n",
    "    r'\\textbf{RoPE} $\\lambda=\\frac{1.0}{\\sqrt{d}}$',\n",
    "    r'\\textbf{RoPE} $\\lambda=\\frac{1.2}{\\sqrt{d}}$',\n",
    "    r'\\textbf{RoPE} $\\lambda=\\frac{1.4}{\\sqrt{d}}$',]\n",
    "\n",
    "sns.lineplot(df, ax=ax1, x=\"pos\", y=\"ent\", hue=\"model\", hue_order=hue_order, palette=sns.color_palette(\"Reds\", 3)[:1]+sns.color_palette(\"Paired\", 5)[-1:]+sns.color_palette(\"Reds\", 3)[-1:]+sns.color_palette(\"Reds\", 12)[-1:], lw=2)\n",
    "sns.lineplot(df, ax=ax2, x=\"pos\", y=\"loss\", hue=\"model\", hue_order=hue_order,  palette=sns.color_palette(\"Reds\", 3)[:1]+sns.color_palette(\"Paired\", 5)[-1:]+sns.color_palette(\"Reds\", 3)[-1:]+sns.color_palette(\"Reds\", 12)[-1:], linestyle=\"dashed\", legend=False, lw=2)\n",
    "\n",
    "ax1.legend(loc=\"upper left\")\n",
    "# ax1.legend(loc=\"upper left\", bbox_to_anchor=(0, -0.1), ncol=4)\n",
    "# fig.tight_layout()  # to ensure that the right y-label is not slightly clipped 1 4 7 10"
   ]
  },
  {
   "cell_type": "code",
   "execution_count": null,
   "metadata": {},
   "outputs": [],
   "source": [
    "fig.savefig(os.path.join(\"logs\", \"fig_vis_uni_scale_entro_rope.pdf\"),bbox_inches='tight', pad_inches=0.0, dpi=1000)"
   ]
  },
  {
   "cell_type": "code",
   "execution_count": null,
   "metadata": {},
   "outputs": [],
   "source": []
  }
 ],
 "metadata": {
  "kernelspec": {
   "display_name": "pt2",
   "language": "python",
   "name": "python3"
  },
  "language_info": {
   "codemirror_mode": {
    "name": "ipython",
    "version": 3
   },
   "file_extension": ".py",
   "mimetype": "text/x-python",
   "name": "python",
   "nbconvert_exporter": "python",
   "pygments_lexer": "ipython3",
   "version": "3.11.2"
  }
 },
 "nbformat": 4,
 "nbformat_minor": 2
}
