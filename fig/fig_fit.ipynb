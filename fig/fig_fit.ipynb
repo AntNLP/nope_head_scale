{
 "cells": [
  {
   "cell_type": "code",
   "execution_count": null,
   "metadata": {},
   "outputs": [],
   "source": [
    "import os\n",
    "import re\n",
    "import warnings\n",
    "from pathlib import Path\n",
    "\n",
    "warnings.filterwarnings(\"ignore\")\n",
    "import matplotlib\n",
    "import matplotlib.pyplot as plt\n",
    "\n",
    "import numpy as np\n",
    "import pandas as pd\n",
    "import seaborn as sns\n",
    "\n",
    "from scipy.optimize import curve_fit"
   ]
  },
  {
   "cell_type": "code",
   "execution_count": null,
   "metadata": {},
   "outputs": [],
   "source": [
    "os.chdir(\"..\")"
   ]
  },
  {
   "cell_type": "code",
   "execution_count": null,
   "metadata": {},
   "outputs": [],
   "source": [
    "job = \"gs\"\n",
    "# job = \"gs_ent\"\n",
    "# file = \"fig_fit10k.pdf\"\n",
    "# root_folder = Path(\"path/to/data\")\n",
    "file = \"fig_fit50k.pdf\"\n",
    "root_folder = Path(\"path/to/data\")\n",
    "\n",
    "if not root_folder.exists():\n",
    "    raise Exception(\"Path does not exist: {}\".format(root_folder))\n",
    "folders = sorted(list(root_folder.iterdir()))\n",
    "print(folders)"
   ]
  },
  {
   "cell_type": "code",
   "execution_count": null,
   "metadata": {},
   "outputs": [],
   "source": [
    "pattern = re.compile(r\"^([^_]+).*\")\n",
    "def get_loss(path: Path):\n",
    "    assert path.is_dir(), path\n",
    "    loss: np.ndarray = np.load(os.path.join(path, \"loss.npy\"))\n",
    "    # if len(loss) == 16384:\n",
    "    #     loss = np.concatenate([loss, np.full_like(loss, float('inf'))])\n",
    "    # print(len(loss))\n",
    "    # if len(loss) > 16384:\n",
    "    #     loss = loss[:16384]\n",
    "    scale = pattern.match(path.name).group(1)\n",
    "    return scale, loss\n",
    "def get_entropy(path: Path):\n",
    "    # assert path.is_dir(), path\n",
    "    if not (path/\"entropy.npy\").is_file():\n",
    "        return \"0\", np.zeros(8192)\n",
    "    entropy: np.ndarray = np.load(os.path.join(path, \"entropy.npy\"))  # [n_layers, n_heads, seq_len]\n",
    "    entropy = entropy.mean(axis=(0, 1))  # [seq_len]\n",
    "    scale = pattern.match(path.name).group(1)\n",
    "    return scale, entropy\n",
    "data = {float(scale): loss for scale, loss in map(get_loss, folders)}\n",
    "# data = {float(scale): loss for scale, loss in map(get_entropy, folders)}\n",
    "df = pd.DataFrame.from_dict(data, orient=\"columns\")\n",
    "# print(df)"
   ]
  },
  {
   "cell_type": "code",
   "execution_count": null,
   "metadata": {},
   "outputs": [],
   "source": [
    "argmin = df.idxmin(axis=1) # get argmin(best scale) and valmin(best loss) for each row\n",
    "valmin = df.min(axis=1) # get min for each column\n",
    "print(argmin)"
   ]
  },
  {
   "cell_type": "code",
   "execution_count": null,
   "metadata": {},
   "outputs": [],
   "source": [
    "length = 2048\n",
    "d = 64\n",
    "def func(x, a):\n",
    "    return (a * np.log(x / length) + 1)\n",
    "\n",
    "data = argmin[argmin.index >= length]\n",
    "# data = data[data.index < 8192]\n",
    "x, y = data.index, data.values\n",
    "popt, pcov = curve_fit(func, x, y)\n",
    "for rst in popt:\n",
    "    print(f\"{rst:.4f}\")\n",
    "residuals = y - func(x, *popt)\n",
    "ss_res = np.sum(residuals**2)\n",
    "ss_tot = np.sum((y - np.mean(y)) ** 2)\n",
    "r_squared = 1 - (ss_res / ss_tot)\n",
    "print(f\"{r_squared=:.4f}\")"
   ]
  },
  {
   "cell_type": "code",
   "execution_count": null,
   "metadata": {},
   "outputs": [],
   "source": [
    "fig, ax1 = plt.subplots()\n",
    "ax1.set_ylabel(r'$\\sigma$', color='tab:blue')\n",
    "ax1.tick_params(axis='y', labelcolor='tab:blue')\n",
    "ax2 = ax1.twinx() # create a second set of axes that shares the x-axis\n",
    "ax2.set_ylabel('loss', color='tab:red')\n",
    "ax2.tick_params(axis='y', labelcolor='tab:red')\n",
    "fig.tight_layout()  # to ensure that the right y-label is not slightly clipped\n",
    "x = np.arange(16384)\n",
    "y = func(x, *popt)\n",
    "\n",
    "sns.lineplot(argmin, ax=ax1, color='tab:blue')\n",
    "sns.lineplot(valmin, ax=ax2, color='tab:red')\n",
    "sns.lineplot(x=x, y=y, ax=ax1, color='black')\n",
    "ax1.set_ylim(0.9, 2.0)\n",
    "labels = [item.get_text() for item in ax1.get_yticklabels()]\n",
    "labels = [r'$\\frac{' + label + r'}{\\sqrt{d}}$' for label in labels]\n",
    "ax1.set_yticklabels(labels)\n",
    "ax1.set_ylabel(r'$\\lambda$')\n",
    "ax1.set_xlabel(r\"Position $i$\")\n",
    "# add a vertical line x=1024\n",
    "# plt.axvline(x=512, color='k', linestyle='--')\n",
    "# plt.axvline(x=1024, color='k', linestyle='--')\n",
    "ax2.set_ylabel(\"log Perplexity\")\n",
    "plt.axvline(x=2048, color='k', linestyle='--')\n",
    "# sns.lineplot(x=x, y=y, ax=ax1, label=\"formula\", color=\"blue\", linestyle=\"--\")\n",
    "# plt.title(\"len=512, d=32, h=24\")\n",
    "# plt.title(\"len=2048, d=32, h=12\")\n",
    "plt.title(\"NoPE 50k steps\")\n",
    "plt.show()"
   ]
  },
  {
   "cell_type": "code",
   "execution_count": null,
   "metadata": {},
   "outputs": [],
   "source": [
    "fig.savefig(os.path.join(\"figs\", file),bbox_inches='tight', pad_inches=0.0, dpi=1000)"
   ]
  },
  {
   "cell_type": "code",
   "execution_count": null,
   "metadata": {},
   "outputs": [],
   "source": []
  }
 ],
 "metadata": {
  "kernelspec": {
   "display_name": "pt2",
   "language": "python",
   "name": "python3"
  },
  "language_info": {
   "codemirror_mode": {
    "name": "ipython",
    "version": 3
   },
   "file_extension": ".py",
   "mimetype": "text/x-python",
   "name": "python",
   "nbconvert_exporter": "python",
   "pygments_lexer": "ipython3",
   "version": "3.9.18"
  }
 },
 "nbformat": 4,
 "nbformat_minor": 2
}
