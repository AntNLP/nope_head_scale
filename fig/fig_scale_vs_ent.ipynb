{
 "cells": [
  {
   "cell_type": "code",
   "execution_count": null,
   "metadata": {},
   "outputs": [],
   "source": [
    "import os\n",
    "import re\n",
    "from pathlib import Path\n",
    "import warnings\n",
    "\n",
    "warnings.filterwarnings(\"ignore\")\n",
    "\n",
    "import matplotlib\n",
    "import matplotlib.pyplot as plt\n",
    "import numpy as np\n",
    "import pandas as pd\n",
    "import seaborn as sns\n",
    "from transformers import AutoConfig, AutoModelForCausalLM, PreTrainedModel"
   ]
  },
  {
   "cell_type": "code",
   "execution_count": null,
   "metadata": {},
   "outputs": [],
   "source": [
    "# matplotlib.rcParams.update(matplotlib.rcParamsDefault)\n",
    "# plt.rcParams['text.usetex'] = True\n",
    "# plt.rc('text.latex', preamble=r'\\usepackage{ulem}')\n",
    "# matplotlib.rcParams.update({'font.size': 14})\n",
    "# plt.rc('font', family='Times New Roman')\n",
    "# sns.set_style(rc={'text.usetex' : True})"
   ]
  },
  {
   "cell_type": "code",
   "execution_count": null,
   "metadata": {},
   "outputs": [],
   "source": [
    "os.chdir('..')\n",
    "# os.chdir(os.path.expanduser(\"~/clm\"))"
   ]
  },
  {
   "cell_type": "code",
   "execution_count": null,
   "metadata": {},
   "outputs": [],
   "source": [
    "from args.model_args import ModelArguments, SoftMaxScaleType\n",
    "from models.llama_nope import monkey_patch_before\n",
    "\n",
    "monkey_patch_before(ModelArguments(use_flash_attention=True, softmax_scale_type=SoftMaxScaleType.HS))\n",
    "# monkey_patch_before(ModelArguments(softmax_scale_type=SoftMaxScaleType.HS))"
   ]
  },
  {
   "cell_type": "code",
   "execution_count": null,
   "metadata": {},
   "outputs": [],
   "source": [
    "path = Path(\"path/to/data\")\n",
    "config = AutoConfig.from_pretrained(path)\n",
    "model = AutoModelForCausalLM.from_pretrained(path, use_flash_attention_2=True)\n",
    "print(model)"
   ]
  },
  {
   "cell_type": "code",
   "execution_count": null,
   "metadata": {},
   "outputs": [],
   "source": [
    "path = Path(\"path/to/data\")\n",
    "entropy = np.load(os.path.join(path, \"entropy.npy\"))  # [n_layers, n_heads, seq_len]\n",
    "# entropy = entropy[:, :, :2048]\n",
    "# entropy_mean = entropy.mean(axis=2)  # [n_layers, n_heads]"
   ]
  },
  {
   "cell_type": "code",
   "execution_count": null,
   "metadata": {},
   "outputs": [],
   "source": [
    "data = []\n",
    "for i in range(config.num_hidden_layers):\n",
    "    scale = model.model.layers[i].self_attn.scale_param.detach().tolist()\n",
    "    for j in range(config.num_attention_heads):\n",
    "        data.append(\n",
    "            {\n",
    "                \"layer\": i,\n",
    "                \"head\": j,\n",
    "                \"scale\": scale[j],\n",
    "                \"entropy\": entropy[i, j, -1],\n",
    "            }\n",
    "        )\n",
    "df = pd.DataFrame(data)\n",
    "print(df)"
   ]
  },
  {
   "cell_type": "code",
   "execution_count": null,
   "metadata": {},
   "outputs": [],
   "source": [
    "plot_df = df\n",
    "layers = list(range(1, 22, 3))\n",
    "plot_df = plot_df[plot_df[\"layer\"].isin(layers)]\n",
    "plot_df.rename(columns={\"layer\": \"Layers 0-21\"}, inplace=True)"
   ]
  },
  {
   "cell_type": "code",
   "execution_count": null,
   "metadata": {},
   "outputs": [],
   "source": [
    "# fig, ax = plt.subplots(figsize=(10, 10))\n",
    "\n",
    "g = sns.lmplot(plot_df, x=\"scale\", y=\"entropy\", hue=\"Layers 0-21\", palette=\"tab10\", legend=False)\n",
    "# # set legend in one row at the bottom of the figure\n",
    "g.ax.legend(bbox_to_anchor=(0.8, 1.2), ncol=7, title=\"Layers (0~21)\", handletextpad=0, columnspacing=0)\n",
    "plt.ylim(0, 13)\n",
    "plt.ylabel(r\"Entropy $\\bar{\\mathcal{H}}_i$\")\n",
    "labels = [item.get_text() for item in g.ax.get_xticklabels()]\n",
    "labels = [r'$\\frac{' + label + r'}{\\sqrt{d}}$' for label in labels]\n",
    "g.ax.set_xticklabels(labels)\n",
    "plt.xlabel(r\"$\\lambda$\")\n",
    "# g.ax.set_ylabel(r'\\textbf{\\underline{Entropy}} $\\bar{\\mathcal{H}}_i$', fontweight='bold')\n",
    "g.tight_layout()\n",
    "# plt.title(\"HS8k ent vs scale\")"
   ]
  },
  {
   "cell_type": "code",
   "execution_count": null,
   "metadata": {},
   "outputs": [],
   "source": [
    "g.savefig(os.path.join(\"logs\", \"fig.pdf\"),bbox_inches='tight', pad_inches=0.0, dpi=1000)"
   ]
  },
  {
   "cell_type": "code",
   "execution_count": null,
   "metadata": {},
   "outputs": [],
   "source": []
  }
 ],
 "metadata": {
  "kernelspec": {
   "display_name": "pt2",
   "language": "python",
   "name": "python3"
  },
  "language_info": {
   "codemirror_mode": {
    "name": "ipython",
    "version": 3
   },
   "file_extension": ".py",
   "mimetype": "text/x-python",
   "name": "python",
   "nbconvert_exporter": "python",
   "pygments_lexer": "ipython3",
   "version": "3.9.18"
  }
 },
 "nbformat": 4,
 "nbformat_minor": 2
}
