{
 "cells": [
  {
   "cell_type": "code",
   "execution_count": null,
   "metadata": {},
   "outputs": [],
   "source": [
    "import math\n",
    "import os\n",
    "import re\n",
    "from pathlib import Path\n",
    "import warnings\n",
    "\n",
    "warnings.filterwarnings(\"ignore\")\n",
    "\n",
    "import matplotlib.pyplot as plt\n",
    "import pandas as pd\n",
    "import seaborn as sns\n",
    "from matplotlib.colors import LinearSegmentedColormap\n",
    "\n",
    "line_pos = None"
   ]
  },
  {
   "cell_type": "code",
   "execution_count": null,
   "metadata": {},
   "outputs": [],
   "source": [
    "# os.chdir('..')\n",
    "os.chdir(os.path.expanduser(\"~/nope/clm\"))"
   ]
  },
  {
   "cell_type": "code",
   "execution_count": null,
   "metadata": {},
   "outputs": [],
   "source": [
    "# file = \"fig_pk_rope.pdf\"\n",
    "# name, avg_len = \"RoPE\", 2048\n",
    "# path, line_pos = Path(\"path/to/data\"), 3\n",
    "# file = \"fig_pk_yarn8k.pdf\"\n",
    "# name, avg_len = r\"YaRN$^{fair}$ 8k\", 8192\n",
    "# path, line_pos = Path(\"path/to/data\"), 3\n",
    "# file = \"fig_pk_yarn16k.pdf\"\n",
    "# name, avg_len = r\"YaRN$^{fair}$ 16k\", 16384\n",
    "# path, line_pos = Path(\"path/to/data\"), 3\n",
    "# file = \"fig_pk_nope.pdf\"\n",
    "# name, avg_len = \"NoPE\", 2048\n",
    "# path, line_pos = Path(\"path/to/data\"), 3\n",
    "# file = \"fig_pk_hs8k.pdf\"\n",
    "# name, avg_len = r\"$\\lambda^{(h)}$ 8k\", 8192\n",
    "# path, line_pos = Path(\"path/to/data\"), 3\n",
    "# file = \"fig_pk_hs16k.pdf\"\n",
    "# name, avg_len = r\"$\\lambda^{(h)}$ 18k\", 16384\n",
    "# path, line_pos = Path(\"path/to/data\"), 3"
   ]
  },
  {
   "cell_type": "code",
   "execution_count": null,
   "metadata": {},
   "outputs": [],
   "source": [
    "file = \"fig_pk_nope_relu0.pdf\"\n",
    "name, avg_len = r\"$\\lambda^{(h)}$ 18k ReLU0\", 16384\n",
    "path, line_pos = Path(\"ckpts/selected/tnl_hs_50k_18k/relu0_i1.7_st200_1e-1_sd271828/Feb14_11-58-07\"), 4\n",
    "# file = \"fig_pk_nope_i1.pdf\"\n",
    "# name, avg_len = r\"$\\lambda^{(h)}$ 18k Default Init\", 16384\n",
    "# path, line_pos = Path(\"ckpts/selected/tnl_hs_50k_18k/relu1_i1.0_st200_1e-1_sd1001/Feb14_22-45-11\"), 4"
   ]
  },
  {
   "cell_type": "code",
   "execution_count": null,
   "metadata": {},
   "outputs": [],
   "source": [
    "df = pd.read_csv(path / \"result.csv\")\n",
    "print(df)"
   ]
  },
  {
   "cell_type": "code",
   "execution_count": null,
   "metadata": {},
   "outputs": [],
   "source": [
    "fig, ax = plt.subplots(figsize=(6,5))\n",
    "cmap = LinearSegmentedColormap.from_list(\"custom_cmap\", [\"#F0496E\", \"#EBB839\", \"#0CD79F\"])\n",
    "sns.heatmap(\n",
    "    df.pivot(index=\"depth\", columns=\"length\", values=\"accuracy\"),\n",
    "    ax=ax,\n",
    "    fmt=\".1f\",\n",
    "    cmap=cmap,\n",
    "    annot=True,\n",
    "    vmin=0,\n",
    "    vmax=1,\n",
    "    cbar=False,\n",
    ")\n",
    "line_idx = 2**line_pos\n",
    "color = \"black\"  # FT length\n",
    "ax.axvline(line_idx, color=color, linestyle=\"--\")\n",
    "ax.set_xticklabels(ax.get_xticklabels(), rotation=45)\n",
    "ax.set_yticklabels(ax.get_yticklabels(), rotation=0)\n",
    "ax.set_ylabel(\"Passkey Depth\")\n",
    "ax.set_xlabel(\"Context Length\")\n",
    "ax.figure.tight_layout()\n",
    "# plt.title(f\"{name} (test {length_map[df['length'].max()]})\");\n",
    "avg = df[df[\"length\"] <= avg_len][\"accuracy\"].mean()\n",
    "plt.title(f\"{name} acc {avg:.2f}\")"
   ]
  },
  {
   "cell_type": "code",
   "execution_count": null,
   "metadata": {},
   "outputs": [],
   "source": [
    "ax.figure.savefig(os.path.join(\"figs\", file), bbox_inches=\"tight\", pad_inches=0.0, dpi=1000)"
   ]
  },
  {
   "cell_type": "code",
   "execution_count": null,
   "metadata": {},
   "outputs": [],
   "source": []
  }
 ],
 "metadata": {
  "kernelspec": {
   "display_name": "pt2",
   "language": "python",
   "name": "python3"
  },
  "language_info": {
   "codemirror_mode": {
    "name": "ipython",
    "version": 3
   },
   "file_extension": ".py",
   "mimetype": "text/x-python",
   "name": "python",
   "nbconvert_exporter": "python",
   "pygments_lexer": "ipython3",
   "version": "3.9.18"
  }
 },
 "nbformat": 4,
 "nbformat_minor": 2
}
